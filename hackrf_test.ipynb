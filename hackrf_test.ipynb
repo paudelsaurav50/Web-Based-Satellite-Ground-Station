{
 "cells": [
  {
   "cell_type": "markdown",
   "id": "1160bafe-ac84-4057-a9a0-7178ef482dce",
   "metadata": {},
   "source": [
    "<b> Install Hackrf and python hackrf </b> </br>\n",
    "Hackrf: https://hackrf.readthedocs.io/en/latest/installing_hackrf_software.html </br>\n",
    "python_hackrf: https://pysdr.org/content/hackrf.html </br>"
   ]
  },
  {
   "cell_type": "markdown",
   "id": "68283cfe-9653-4fc8-a910-1588d9078d67",
   "metadata": {},
   "source": [
    "<b> The testing code is based on: https://pysdr.org/content/hackrf.html </b>"
   ]
  },
  {
   "cell_type": "code",
   "execution_count": 1,
   "id": "6863ceff-f520-465e-b376-72f1a7d8b6ac",
   "metadata": {},
   "outputs": [],
   "source": [
    "from python_hackrf import pyhackrf\n",
    "import matplotlib.pyplot as plt\n",
    "import numpy as np\n",
    "import time"
   ]
  },
  {
   "cell_type": "code",
   "execution_count": 2,
   "id": "64d0dd79-59f7-4841-8981-bcbd7c7b6151",
   "metadata": {},
   "outputs": [
    {
     "ename": "NameError",
     "evalue": "name 'allowed_baseband_filter' is not defined",
     "output_type": "error",
     "traceback": [
      "\u001b[0;31m---------------------------------------------------------------------------\u001b[0m",
      "\u001b[0;31mNameError\u001b[0m                                 Traceback (most recent call last)",
      "Cell \u001b[0;32mIn[2], line 28\u001b[0m\n\u001b[1;32m     25\u001b[0m sdr\u001b[38;5;241m.\u001b[39mpyhackrf_set_lna_gain(lna_gain)  \u001b[38;5;66;03m# LNA gain - 0 to 40 dB in 8 dB steps\u001b[39;00m\n\u001b[1;32m     26\u001b[0m sdr\u001b[38;5;241m.\u001b[39mpyhackrf_set_vga_gain(vga_gain)  \u001b[38;5;66;03m# VGA gain - 0 to 62 dB in 2 dB steps\u001b[39;00m\n\u001b[0;32m---> 28\u001b[0m \u001b[38;5;28mprint\u001b[39m(\u001b[38;5;124mf\u001b[39m\u001b[38;5;124m'\u001b[39m\u001b[38;5;124mcenter_freq: \u001b[39m\u001b[38;5;132;01m{\u001b[39;00mcenter_freq\u001b[38;5;132;01m}\u001b[39;00m\u001b[38;5;124m sample_rate: \u001b[39m\u001b[38;5;132;01m{\u001b[39;00msample_rate\u001b[38;5;132;01m}\u001b[39;00m\u001b[38;5;124m baseband_filter: \u001b[39m\u001b[38;5;132;01m{\u001b[39;00m\u001b[43mallowed_baseband_filter\u001b[49m\u001b[38;5;132;01m}\u001b[39;00m\u001b[38;5;124m'\u001b[39m)\n\u001b[1;32m     30\u001b[0m num_samples \u001b[38;5;241m=\u001b[39m \u001b[38;5;28mint\u001b[39m(recording_time \u001b[38;5;241m*\u001b[39m sample_rate)\n\u001b[1;32m     31\u001b[0m samples \u001b[38;5;241m=\u001b[39m np\u001b[38;5;241m.\u001b[39mzeros(num_samples, dtype\u001b[38;5;241m=\u001b[39mnp\u001b[38;5;241m.\u001b[39mcomplex64)\n",
      "\u001b[0;31mNameError\u001b[0m: name 'allowed_baseband_filter' is not defined"
     ]
    }
   ],
   "source": [
    "from python_hackrf import pyhackrf  # type: ignore\n",
    "import matplotlib.pyplot as plt\n",
    "import numpy as np\n",
    "import time\n",
    "\n",
    "# These settings should match the hackrf_transfer example used in the textbook, and the resulting waterfall should look about the same\n",
    "recording_time = 1  # seconds\n",
    "center_freq = 435.6e6  # Hz\n",
    "sample_rate = 10e6\n",
    "baseband_filter = 7500000\n",
    "lna_gain = 30 # 0 to 40 dB in 8 dB steps\n",
    "vga_gain = 50 # 0 to 62 dB in 2 dB steps\n",
    "\n",
    "pyhackrf.pyhackrf_init()\n",
    "sdr = pyhackrf.pyhackrf_open()\n",
    "\n",
    "#allowed_baseband_filter = pyhackrf.hackrf_compute_baseband_filter_bw_round_down_lt(baseband_filter) # calculate the supported bandwidth relative to the desired one\n",
    "#allowed_baseband_filter=chackrf.hackrf_compute_baseband_filter_bw_round_down_lt(<uint32_t> baseband_filter)\n",
    "sdr.pyhackrf_set_sample_rate(sample_rate)\n",
    "#sdr.pyhackrf_set_baseband_filter_bandwidth(allowed_baseband_filter)\n",
    "sdr.pyhackrf_set_antenna_enable(False)  # It seems this setting enables or disables power supply to the antenna port. False by default. the firmware auto-disables this after returning to IDLE mode\n",
    "\n",
    "sdr.pyhackrf_set_freq(center_freq)\n",
    "sdr.pyhackrf_set_amp_enable(False)  # False by default\n",
    "sdr.pyhackrf_set_lna_gain(lna_gain)  # LNA gain - 0 to 40 dB in 8 dB steps\n",
    "sdr.pyhackrf_set_vga_gain(vga_gain)  # VGA gain - 0 to 62 dB in 2 dB steps\n",
    "\n",
    "print(f'center_freq: {center_freq} sample_rate: {sample_rate} ')\n",
    "\n",
    "num_samples = int(recording_time * sample_rate)\n",
    "samples = np.zeros(num_samples, dtype=np.complex64)\n",
    "last_idx = 0\n",
    "\n",
    "def rx_callback(device, buffer, buffer_length, valid_length):  # this callback function always needs to have these four args\n",
    "    global samples, last_idx\n",
    "\n",
    "    accepted = valid_length // 2\n",
    "    accepted_samples = buffer[:valid_length].astype(np.int8) # -128 to 127\n",
    "    accepted_samples = accepted_samples[0::2] + 1j * accepted_samples[1::2]  # Convert to complex type (de-interleave the IQ)\n",
    "    accepted_samples /= 128 # -1 to +1\n",
    "    samples[last_idx: last_idx + accepted] = accepted_samples\n",
    "\n",
    "    last_idx += accepted\n",
    "\n",
    "    return 0\n",
    "\n",
    "sdr.set_rx_callback(rx_callback)\n",
    "sdr.pyhackrf_start_rx()\n",
    "print('is_streaming', sdr.pyhackrf_is_streaming())\n",
    "\n",
    "time.sleep(recording_time)\n",
    "\n",
    "sdr.pyhackrf_stop_rx()\n",
    "sdr.pyhackrf_close()\n",
    "\n",
    "samples = samples[100000:] # get rid of the first 100k samples just to be safe, due to transients\n",
    "\n",
    "fft_size = 2048\n",
    "num_rows = len(samples) // fft_size\n",
    "spectrogram = np.zeros((num_rows, fft_size))\n",
    "for i in range(num_rows):\n",
    "    spectrogram[i, :] = 10 * np.log10(np.abs(np.fft.fftshift(np.fft.fft(samples[i * fft_size:(i+1) * fft_size]))) ** 2)\n",
    "extent = [(center_freq + sample_rate / -2) / 1e6, (center_freq + sample_rate / 2) / 1e6, len(samples) / sample_rate, 0]\n",
    "\n",
    "plt.figure(0)\n",
    "plt.imshow(spectrogram, aspect='auto', extent=extent) # type: ignore\n",
    "plt.xlabel(\"Frequency [MHz]\")\n",
    "plt.ylabel(\"Time [s]\")\n",
    "\n",
    "plt.figure(1)\n",
    "plt.plot(np.real(samples[0:10000]))\n",
    "plt.plot(np.imag(samples[0:10000]))\n",
    "plt.xlabel(\"Samples\")\n",
    "plt.ylabel(\"Amplitude\")\n",
    "plt.legend([\"Real\", \"Imaginary\"])\n",
    "\n",
    "plt.show()"
   ]
  },
  {
   "cell_type": "code",
   "execution_count": null,
   "id": "f9ac2697-7d94-491b-a8c9-ed1a0da7d8a1",
   "metadata": {},
   "outputs": [],
   "source": []
  },
  {
   "cell_type": "code",
   "execution_count": null,
   "id": "9bf7ae31-659d-4cf6-a3df-0d970446beb0",
   "metadata": {},
   "outputs": [],
   "source": []
  }
 ],
 "metadata": {
  "kernelspec": {
   "display_name": "Python 3 (ipykernel)",
   "language": "python",
   "name": "python3"
  },
  "language_info": {
   "codemirror_mode": {
    "name": "ipython",
    "version": 3
   },
   "file_extension": ".py",
   "mimetype": "text/x-python",
   "name": "python",
   "nbconvert_exporter": "python",
   "pygments_lexer": "ipython3",
   "version": "3.10.12"
  }
 },
 "nbformat": 4,
 "nbformat_minor": 5
}
